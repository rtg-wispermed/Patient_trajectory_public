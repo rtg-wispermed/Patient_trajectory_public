{
 "cells": [
  {
   "cell_type": "code",
   "execution_count": null,
   "metadata": {},
   "outputs": [],
   "source": [
    "import sys\n",
    "import json\n",
    "\n",
    "# sys.path.insert(0,'/groups/dso/meijie/melanoma_data/Code_Bahadir/Wispermed/extraction_funs')\n",
    "# sys.path.insert(0,'/groups/dso/meijie/melanoma_data/fhir_data/Top2000Melanomexport-2022-04-30T10:49:34')\n",
    "# sys.path.insert(0,'/groups/dso/meijie/melanoma_data/fhir_data')\n",
    "sys.path.insert(0,'extraction_funs')"
   ]
  },
  {
   "cell_type": "code",
   "execution_count": null,
   "metadata": {},
   "outputs": [],
   "source": [
    "from extraction_baseclass import extractor, tryPath"
   ]
  },
  {
   "cell_type": "code",
   "execution_count": null,
   "metadata": {},
   "outputs": [],
   "source": [
    "careplanExtractor = extractor(name='CarePlan', resourceType='CarePlan') # Create an instance of baseclass for careplan\n",
    "careplanExtractor.addField('patid', lambda x: x['subject']['reference'], True) # throws an error if doesnt exist\n",
    "careplanExtractor.addField('dt_start', lambda x: tryPath(x, ['period','start']),False) # will return none if it doesnt exist"
   ]
  },
  {
   "cell_type": "code",
   "execution_count": null,
   "metadata": {},
   "outputs": [],
   "source": [
    "conds = {\n",
    "    'cat_therapy_aim': lambda x: tryPath(x, ['coding',0,'system']) == 'https://uk-essen.de/HIS/Cerner/Medico/TumorDocumentation/TherapyPlanning/Therapieziel',\n",
    "    'cat_therapy_type': lambda x: tryPath(x, ['coding',0,'system']) == 'https://uk-essen.de/HIS/Cerner/Medico/TumorDocumentation/TherapyPlanning/Therapie'\n",
    "}\n",
    "careplanExtractor.addFieldsFromList(['category','*','coding',0,'display'], conds)\n",
    "# About careplan extractor we need both a path and conditions. Because path only would take everything with that path with condition we get what we want.\n"
   ]
  },
  {
   "attachments": {},
   "cell_type": "markdown",
   "metadata": {},
   "source": [
    "#### So far we added fields to the careplanextractor instance using method from the baseclass. We also added fields from list w.r.t specific condition to get what we want. This was just to create a careplan extractor demo. For this instance, we must add as many fields as needed (i.e, we take every relevant field from careplans). Now we can call the patient json data and test our careplanextractor object."
   ]
  },
  {
   "cell_type": "code",
   "execution_count": null,
   "metadata": {},
   "outputs": [],
   "source": [
    "#json_pat = open('/groups/dso/meijie/melanoma_data/fhir_data/0a1ea535edd2820fd0c6d652f26a744bee5a52ce6055a6d993fbee0e065a724e.json') # pick a patient\n",
    "json_pat = open('data_new/0a1ea535edd2820fd0c6d652f26a744bee5a52ce6055a6d993fbee0e065a724e.json')\n",
    "json_pat = json.load(json_pat) # load the patient data"
   ]
  },
  {
   "cell_type": "code",
   "execution_count": null,
   "metadata": {},
   "outputs": [],
   "source": [
    "careplans_transformed = careplanExtractor.extract(json_pat[\"entry\"]) # Now use the object and create a filtered patient json file.\n",
    "careplans_transformed "
   ]
  },
  {
   "cell_type": "code",
   "execution_count": null,
   "metadata": {},
   "outputs": [],
   "source": [
    "# It looks and searchs for the care plan and takes all things inside\n",
    "careplans = [x['resource'] for x in json_pat[\"entry\"] if x['resource']['resourceType'] == \"CarePlan\"]\n",
    "\n",
    "# Now we take all the careplans entries for the patient json file. Now we have both a careplan extractor at hand and the careplans of the patient\n",
    "\n",
    "#careplans2 = []\n",
    "#for x in json_pat[\"entry\"]:\n",
    "#    if x['resource']['resourceType'] == \"CarePlan\":\n",
    "#        careplans2.append(x['resource'])\n",
    "\n",
    "#careplans[0:2] # Unlock this to see if careplans really has careplans :)"
   ]
  },
  {
   "cell_type": "code",
   "execution_count": null,
   "metadata": {},
   "outputs": [],
   "source": [
    "from medication_extractor import *\n",
    "from tnm_extractors import getExtractorProgress"
   ]
  },
  {
   "cell_type": "code",
   "execution_count": null,
   "metadata": {},
   "outputs": [],
   "source": [
    "getMedicationAdministration().extract(json_pat['entry'])"
   ]
  },
  {
   "cell_type": "code",
   "execution_count": null,
   "metadata": {},
   "outputs": [],
   "source": [
    "progresses = getExtractorProgress().extract(json_pat['entry'])\n",
    "#progresses[0:5] # Unlock to see output"
   ]
  },
  {
   "cell_type": "code",
   "execution_count": null,
   "metadata": {},
   "outputs": [],
   "source": [
    "from group_and_merge import groupResources, combineResources\n",
    "# group resources gives us all resources with the same date in a list:\n",
    "groupedProgress = groupResources(progresses, \"dt_record\")\n",
    "groupedProgress[0]"
   ]
  },
  {
   "cell_type": "code",
   "execution_count": null,
   "metadata": {},
   "outputs": [],
   "source": [
    "# groupedProgress[1] # Unlock to see output"
   ]
  },
  {
   "cell_type": "code",
   "execution_count": null,
   "metadata": {},
   "outputs": [],
   "source": [
    "# we now combine the grouped resources:\n",
    "combinedResources = [combineResources(x) for x in groupedProgress]"
   ]
  },
  {
   "cell_type": "code",
   "execution_count": null,
   "metadata": {},
   "outputs": [],
   "source": [
    "# combinedResources[0] # Unlock to see output"
   ]
  },
  {
   "cell_type": "code",
   "execution_count": null,
   "metadata": {},
   "outputs": [],
   "source": [
    "# groupedProgress[1] # Unlock to see output"
   ]
  },
  {
   "cell_type": "code",
   "execution_count": null,
   "metadata": {},
   "outputs": [],
   "source": [
    "# changes from local"
   ]
  }
 ],
 "metadata": {
  "kernelspec": {
   "display_name": "be_melanoma",
   "language": "python",
   "name": "python3"
  },
  "language_info": {
   "codemirror_mode": {
    "name": "ipython",
    "version": 3
   },
   "file_extension": ".py",
   "mimetype": "text/x-python",
   "name": "python",
   "nbconvert_exporter": "python",
   "pygments_lexer": "ipython3",
   "version": "3.8.13 (default, Oct 21 2022, 23:50:54) \n[GCC 11.2.0]"
  },
  "orig_nbformat": 4,
  "vscode": {
   "interpreter": {
    "hash": "c188bc19279b8152fa84e8a48b6d6605255f65fd4bac49aaa504d1566de260d7"
   }
  }
 },
 "nbformat": 4,
 "nbformat_minor": 2
}
