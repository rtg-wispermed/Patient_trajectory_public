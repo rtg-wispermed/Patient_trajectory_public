{
 "cells": [
  {
   "cell_type": "code",
   "execution_count": null,
   "id": "d4f14c91",
   "metadata": {},
   "outputs": [],
   "source": [
    "import sys\n",
    "import json\n",
    "# sys.path.insert(0,'/groups/dso/meijie/melanoma_data/Code_Bahadir/Wispermed/extraction_funs')\n",
    "# sys.path.insert(0,'/groups/dso/meijie/melanoma_data/fhir_data/Top2000Melanomexport-2022-04-30T10:49:34')\n",
    "# sys.path.insert(0,'/groups/dso/meijie/melanoma_data/fhir_data')\n",
    "sys.path.insert(0,'extraction_funs')\n",
    "\n",
    "from medication_extractor import *\n",
    "from tnm_extractors import *\n",
    "from extraction_baseclass import extractor, tryPath\n",
    "from group_and_merge import groupResources, combineResources\n",
    "from procedure_extractors import *\n",
    "from os import listdir\n",
    "from itertools import chain\n",
    "\n",
    "folder_jsons = \"data_new/\""
   ]
  },
  {
   "cell_type": "code",
   "execution_count": null,
   "id": "8790260b",
   "metadata": {},
   "outputs": [],
   "source": [
    "jfiles = [x for x in listdir(folder_jsons) if x[-4:] == 'json'] # save names of json files in list"
   ]
  },
  {
   "cell_type": "code",
   "execution_count": null,
   "id": "774bfbe5",
   "metadata": {},
   "outputs": [],
   "source": [
    "# find patients with Stage 3 and 4, medication, surgeries and examinations\n",
    "\n",
    "ptnm_extractor = getExtractorPTNM()\n",
    "ctnm_extractor = getExtractorCTNM()\n",
    "medi_extractor = getMedicationAdministration()\n",
    "radiotherapy_ext = getRadioTherapy()\n",
    "surgeries_ext = getOperation()\n",
    "examinations_ext = getExaminations()\n",
    "progress_extractor = getExtractorProgress()\n",
    "tproperties_extractor = getExtractorPropertiesPrimary()\n",
    "\n",
    "jsons_with_s3_and_s4 = []\n",
    "jsons_with_medication = []\n",
    "jsons_with_radiotherapy = []\n",
    "jsons_with_examinations = []\n",
    "jsons_with_progress = []\n",
    "jsons_with_surgery = []\n",
    "jsons_with_tproperties = []\n",
    "for jfile in jfiles:\n",
    "    resources = json.load(open(folder_jsons + jfile))['entry']\n",
    "    stages = ptnm_extractor.extract(resources) + ctnm_extractor.extract(resources)\n",
    "    stages = [x.get('tnm_stage','NA') for x in stages]\n",
    "    has3 = any([x.startswith(\"III\") for x in stages])\n",
    "    has4 = any([x.startswith(\"IV\") for x in stages])\n",
    "    if has3 and has4:\n",
    "        jsons_with_s3_and_s4.append(jfile)\n",
    "    if len(medi_extractor.extract(resources)) > 0:\n",
    "        jsons_with_medication.append(jfile)\n",
    "    if len(radiotherapy_ext.extract(resources)) > 0:\n",
    "        jsons_with_radiotherapy.append(jfile)\n",
    "    if len(surgeries_ext.extract(resources)) > 0:\n",
    "        jsons_with_surgery.append(jfile)\n",
    "    if len(examinations_ext.extract(resources)) > 0:\n",
    "        jsons_with_examinations.append(jfile)\n",
    "    if len(progress_extractor.extract(resources)) > 0:\n",
    "        jsons_with_progress.append(jfile)\n",
    "    if len(tproperties_extractor.extract(resources)) > 0:\n",
    "        jsons_with_tproperties.append(jfile)       \n",
    "print(len(jsons_with_s3_and_s4))        "
   ]
  },
  {
   "cell_type": "code",
   "execution_count": null,
   "id": "c6af9793",
   "metadata": {},
   "outputs": [],
   "source": [
    "# do we have a patient that has data for all those resources?\n",
    "jsons_with_all_info = set(jsons_with_s3_and_s4)\n",
    "other_infos = [jsons_with_medication, jsons_with_radiotherapy, jsons_with_surgery,\n",
    "               jsons_with_examinations, jsons_with_progress, jsons_with_tproperties]\n",
    "\n",
    "for with_info in other_infos:\n",
    "    jsons_with_all_info = jsons_with_all_info.intersection(with_info)\n",
    "    print(len(jsons_with_all_info))\n",
    "jsons_with_all_info = list(jsons_with_all_info)\n",
    "jsons_with_all_info.sort()"
   ]
  },
  {
   "cell_type": "code",
   "execution_count": null,
   "id": "7e4fe0cf",
   "metadata": {},
   "outputs": [],
   "source": [
    "# Some functions to make the output beautiful\n",
    "\n",
    "# -> put in a resource with stage information -> this function outputs a string easy to read for doctors\n",
    "# -> will be used later\n",
    "def printStage(x):\n",
    "    t, n, m = x.get('tstage',' k.A. '), x.get('nstage',' k.A. '), x.get('mstage',' k.A. ')\n",
    "    tnm = x.get('tnm_stage','')\n",
    "    ver = x.get('cat_version')\n",
    "    if ver is None:\n",
    "        ver = \"k.A.\"\n",
    "    porc = x.get('p_or_c')\n",
    "    r = x.get('residual_state','')\n",
    "    senPos = x.get('snodes_postive',\"\")\n",
    "    senTest = x.get('snodes_examined',\"?\")\n",
    "    renPos = x.get('rnodes_positive',\"\")\n",
    "    renTest = x.get('rnodes_examined',\"?\")\n",
    "    \n",
    "    res = f\"Version: {ver}, {porc}{tnm} T{t}N{n}M{m}{r}\"\n",
    "    if senPos != \"\":\n",
    "        res += f\", Sentinel: {senPos}+/{senTest}\"\n",
    "    if renPos != \"\":\n",
    "        res += f\", Regional Lymphnodes: {renPos}+/{renTest}\"\n",
    "    return res"
   ]
  },
  {
   "cell_type": "code",
   "execution_count": null,
   "id": "230a8e8c",
   "metadata": {},
   "outputs": [],
   "source": [
    "# adds a field to a dictionary and returns the dictionary\n",
    "def addField(x, addfun, fieldName):\n",
    "    x[fieldName] = addfun(x)\n",
    "    return x"
   ]
  },
  {
   "cell_type": "code",
   "execution_count": null,
   "id": "266d1fad",
   "metadata": {},
   "outputs": [],
   "source": [
    "jfile = jsons_with_all_info[1] # looks very rich\n",
    "\n",
    "resources = json.load(open(folder_jsons + jfile))['entry']\n",
    "\n",
    "stages = [addField(x, lambda x: \"p\",\"p_or_c\") for x in ptnm_extractor.extract(resources)]\n",
    "stages += [addField(x, lambda x: \"c\",\"p_or_c\") for x in ctnm_extractor.extract(resources)]\n",
    "stages.sort(key = lambda x: x['dt_record'])\n",
    "stages"
   ]
  },
  {
   "cell_type": "code",
   "execution_count": null,
   "id": "129e0022",
   "metadata": {},
   "outputs": [],
   "source": [
    "stages = groupResources(stages, \"dt_record\")\n",
    "stages # for each date we want to select one"
   ]
  },
  {
   "cell_type": "code",
   "execution_count": null,
   "id": "c573baab",
   "metadata": {},
   "outputs": [],
   "source": [
    "# we only want to keep one resource per date\n",
    "def keepHighestPriority(resources, field, priorities):\n",
    "    highestPrio = len(priorities) + 10\n",
    "    for resource in resources:\n",
    "        currentPrio = priorities.index(resource[field])\n",
    "        if currentPrio < highestPrio:\n",
    "             highestPrio = currentPrio\n",
    "    highestPrio = priorities[highestPrio]\n",
    "    return [x for x in resources if x[field] == highestPrio]\n",
    "\n",
    "stages = [keepHighestPriority(x, 'p_or_c', ['p','c']) for x in stages]\n",
    "stages = [keepHighestPriority(x, 'cat_version', ['AJCC2017','AJCC2009',None]) for x in stages]\n",
    "stages"
   ]
  },
  {
   "cell_type": "code",
   "execution_count": null,
   "id": "bbde0e1f",
   "metadata": {},
   "outputs": [],
   "source": [
    "# after checking the resources, we can safely combine them\n",
    "stages = [combineResources(x) for x in stages]\n",
    "stages"
   ]
  },
  {
   "cell_type": "code",
   "execution_count": null,
   "id": "df1ce918",
   "metadata": {},
   "outputs": [],
   "source": [
    "# add nice field to print and the next date as stop date\n",
    "stages = [addField(x, printStage, \"val_print\") for x in stages]\n",
    "for i in range(len(stages)-1):\n",
    "    stages[i]['dt_end'] = stages[i+1]['dt_record']\n",
    "stages[-1]['dt_end'] = \"2019-06-22\" #  2019-06-21 is the date he deceased\n",
    "stages"
   ]
  },
  {
   "cell_type": "code",
   "execution_count": null,
   "id": "d7a6d2a9",
   "metadata": {},
   "outputs": [],
   "source": [
    "examinations = examinations_ext.extract(resources)\n",
    "examinations = groupResources(examinations, \"dt_record\")\n",
    "examinations = [combineResources(x) for x in examinations]\n",
    "examinations"
   ]
  },
  {
   "cell_type": "code",
   "execution_count": null,
   "id": "ed147bf4",
   "metadata": {},
   "outputs": [],
   "source": [
    "radio_therapy = radiotherapy_ext.extract(resources)\n",
    "radio_therapy = [combineResources(x) for x in groupResources(radio_therapy, \"dt_start\")] # deletes one duplicate\n",
    "radio_therapy"
   ]
  },
  {
   "cell_type": "code",
   "execution_count": null,
   "id": "00078f30",
   "metadata": {},
   "outputs": [],
   "source": [
    "progresses = progress_extractor.extract(resources)\n",
    "progresses = [combineResources(x) for x in groupResources(progresses, \"dt_record\")]\n",
    "progresses"
   ]
  },
  {
   "cell_type": "code",
   "execution_count": null,
   "id": "9210c473",
   "metadata": {},
   "outputs": [],
   "source": [
    "medis = medi_extractor.extract(resources)\n",
    "medis.sort(key=lambda x: x['dt_start'])\n",
    "\n",
    "\n",
    "# unknown is stupid for demonstration -> change it to Nivo+Ipi and Pembro\n",
    "medis[0]['cat_drugtype'] = \"Nivo+Ipi\"\n",
    "medis[1]['cat_drugtype'] = \"Pembrolizumab\"\n",
    "medis"
   ]
  },
  {
   "cell_type": "code",
   "execution_count": null,
   "id": "6b128637",
   "metadata": {},
   "outputs": [],
   "source": [
    "properties_prim = tproperties_extractor.extract(resources)\n",
    "properties_prim = [combineResources(x) for x in groupResources(properties_prim, \"dt_record\")]\n",
    "properties_prim"
   ]
  },
  {
   "cell_type": "code",
   "execution_count": null,
   "id": "bb903e8a",
   "metadata": {},
   "outputs": [],
   "source": [
    "oncogenes = getExtractorOncogenes().extract(resources)\n",
    "oncogenes = [x for x in oncogenes if x['cat_gene'] in ['TERT Ergebnis','BRAF Ergebnis',\n",
    "                                                       'NRAS Ergebnis','NF1 Ergebnis']] # should be the most relevant\n",
    "\n",
    "# make outcome nice\n",
    "def printGene(x):\n",
    "    res = x['cat_gene'][:-8]\n",
    "    if x['flg_mutated']:\n",
    "        res += 'mutation'\n",
    "        freq = x.get('num_frequency',-1)\n",
    "        if freq > 0:\n",
    "            res += \" (Frequency \" + str(freq) + \")\"\n",
    "    else:\n",
    "        res += 'wildtype'\n",
    "    return res\n",
    "        \n",
    "oncogenes = [addField(x, printGene, 'val_print') for x in oncogenes]\n",
    "for onco in oncogenes:\n",
    "    onco.pop('cat_gene')\n",
    "    onco.pop('flg_mutated')\n",
    "    onco.pop('num_frequency', None)\n",
    "oncogenes = [combineResources(x) for x in groupResources(oncogenes, 'dt_record')]\n",
    "oncogenes"
   ]
  },
  {
   "cell_type": "code",
   "execution_count": null,
   "id": "79762745",
   "metadata": {},
   "outputs": [],
   "source": [
    "patientinfo = [x for x in resources if x['resource']['resourceType'] == 'Patient']\n",
    "patientinfo = patientinfo[0]['resource']\n",
    "patientinfo.keys()\n",
    "patientinfo.pop('meta', None)\n",
    "patientinfo.pop('managingOrganization', None)\n",
    "patientinfo.pop('identifier', None)\n",
    "patientinfo"
   ]
  },
  {
   "cell_type": "code",
   "execution_count": null,
   "id": "260d19bc",
   "metadata": {},
   "outputs": [],
   "source": [
    "json4demonstration = {\n",
    "    'patient_info': patientinfo,\n",
    "    'stages': stages,\n",
    "    'examinations': examinations,\n",
    "    'radiotherapy': radio_therapy,\n",
    "    'progresses': progresses,\n",
    "    'medication': medis,\n",
    "    'properties_primary': properties_prim,\n",
    "    'oncogenes': oncogenes\n",
    "}"
   ]
  },
  {
   "cell_type": "code",
   "execution_count": null,
   "id": "6f89bb68",
   "metadata": {},
   "outputs": [],
   "source": [
    "with open('example_patient.json', 'w', encoding='utf-8') as f:\n",
    "    json.dump(json4demonstration, f, ensure_ascii=False, indent=4)"
   ]
  },
  {
   "cell_type": "code",
   "execution_count": null,
   "id": "4e34dda6",
   "metadata": {},
   "outputs": [],
   "source": []
  }
 ],
 "metadata": {
  "kernelspec": {
   "display_name": "Python 3 (ipykernel)",
   "language": "python",
   "name": "python3"
  },
  "language_info": {
   "codemirror_mode": {
    "name": "ipython",
    "version": 3
   },
   "file_extension": ".py",
   "mimetype": "text/x-python",
   "name": "python",
   "nbconvert_exporter": "python",
   "pygments_lexer": "ipython3",
   "version": "3.9.7"
  }
 },
 "nbformat": 4,
 "nbformat_minor": 5
}
