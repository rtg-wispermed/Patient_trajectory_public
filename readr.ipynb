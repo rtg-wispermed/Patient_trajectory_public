{
 "cells": [
  {
   "cell_type": "code",
   "execution_count": null,
   "metadata": {},
   "outputs": [],
   "source": [
    "import pyreadr\n",
    "import numpy as np\n",
    "import pandas as pd"
   ]
  },
  {
   "cell_type": "code",
   "execution_count": null,
   "metadata": {},
   "outputs": [],
   "source": [
    "data_care = pyreadr.read_r('../tables_rds/CarePlan.RDS')\n",
    "df_care = data_care[None]\n",
    "df_care"
   ]
  },
  {
   "cell_type": "code",
   "execution_count": null,
   "metadata": {},
   "outputs": [],
   "source": [
    "print (df_care.columns)"
   ]
  },
  {
   "cell_type": "code",
   "execution_count": null,
   "metadata": {},
   "outputs": [],
   "source": [
    "df_care.loc[df_care['resource_subject_reference']=='Patient/c7b58272-51d7-41f5-b3d3-18d30cd6281a']"
   ]
  },
  {
   "cell_type": "code",
   "execution_count": null,
   "metadata": {},
   "outputs": [],
   "source": [
    "pd.set_option('display.max_columns', None)\n",
    "df_clinical.loc[df_clinical['resource_subject_reference']=='Patient/c7b58272-51d7-41f5-b3d3-18d30cd6281a']"
   ]
  },
  {
   "cell_type": "code",
   "execution_count": null,
   "metadata": {},
   "outputs": [],
   "source": [
    "df_condition.loc[df_condition['resource_subject_reference']=='Patient/c7b58272-51d7-41f5-b3d3-18d30cd6281a']"
   ]
  },
  {
   "cell_type": "code",
   "execution_count": null,
   "metadata": {},
   "outputs": [],
   "source": [
    "\n",
    "pd.set_option('display.max_columns', None)\n",
    "df_diagnostic.loc[df_diagnostic['resource_subject_reference']=='Patient/c7b58272-51d7-41f5-b3d3-18d30cd6281a']"
   ]
  },
  {
   "cell_type": "code",
   "execution_count": null,
   "metadata": {},
   "outputs": [],
   "source": [
    "df_episode.loc[df_episode['resource_patient_reference']=='Patient/c7b58272-51d7-41f5-b3d3-18d30cd6281a']"
   ]
  },
  {
   "cell_type": "code",
   "execution_count": null,
   "metadata": {},
   "outputs": [],
   "source": [
    "df_medication.loc[df_medication['resource_subject_reference']=='Patient/c7b58272-51d7-41f5-b3d3-18d30cd6281a']"
   ]
  },
  {
   "cell_type": "code",
   "execution_count": null,
   "metadata": {},
   "outputs": [],
   "source": [
    "pd.set_option('display.max_columns', None)\n",
    "df_observation.loc[df_observation['resource_subject_reference']=='Patient/c7b58272-51d7-41f5-b3d3-18d30cd6281a']"
   ]
  },
  {
   "cell_type": "code",
   "execution_count": null,
   "metadata": {},
   "outputs": [],
   "source": [
    "df_care.loc[df_care['resource_subject_reference']=='Patient/c7b58272-51d7-41f5-b3d3-18d30cd6281a']"
   ]
  },
  {
   "cell_type": "code",
   "execution_count": null,
   "metadata": {},
   "outputs": [],
   "source": [
    "df_care.loc[df_care['resource_subject_reference']=='Patient/c7b58272-51d7-41f5-b3d3-18d30cd6281a']"
   ]
  },
  {
   "cell_type": "code",
   "execution_count": null,
   "metadata": {},
   "outputs": [],
   "source": [
    "df_care.loc[df_care['resource_subject_reference']=='Patient/c7b58272-51d7-41f5-b3d3-18d30cd6281a']"
   ]
  },
  {
   "cell_type": "code",
   "execution_count": null,
   "metadata": {},
   "outputs": [],
   "source": [
    "data_clinical = pyreadr.read_r('../tables_rds/ClinicalImpression.RDS')\n",
    "df_clinical = data_clinical[None]\n",
    "df_clinical"
   ]
  },
  {
   "cell_type": "code",
   "execution_count": null,
   "metadata": {},
   "outputs": [],
   "source": [
    "data_condition = pyreadr.read_r('../tables_rds/Condition.RDS')\n",
    "df_condition = data_condition[None]\n",
    "df_condition"
   ]
  },
  {
   "cell_type": "code",
   "execution_count": null,
   "metadata": {},
   "outputs": [],
   "source": [
    "data_diagnostic = pyreadr.read_r('../tables_rds/DiagnosticReport.RDS')\n",
    "df_diagnostic = data_diagnostic[None]\n",
    "df_diagnostic"
   ]
  },
  {
   "cell_type": "code",
   "execution_count": null,
   "metadata": {},
   "outputs": [],
   "source": [
    "data_episode = pyreadr.read_r('../tables_rds/EpisodeOfCare.RDS')\n",
    "df_episode = data_episode[None]\n",
    "df_episode"
   ]
  },
  {
   "cell_type": "code",
   "execution_count": null,
   "metadata": {},
   "outputs": [],
   "source": [
    "data_medication = pyreadr.read_r('../tables_rds/MedicationAdministration.RDS')\n",
    "df_medication = data_medication[None]\n",
    "df_medication"
   ]
  },
  {
   "cell_type": "code",
   "execution_count": null,
   "metadata": {},
   "outputs": [],
   "source": [
    "\n",
    "data_observation = pyreadr.read_r('../tables_rds/Observation.RDS')\n",
    "df_observation = data_observation[None]\n",
    "df_observation"
   ]
  },
  {
   "cell_type": "code",
   "execution_count": null,
   "metadata": {},
   "outputs": [],
   "source": [
    "data_organization = pyreadr.read_r('../tables_rds/Organization.RDS')\n",
    "df_organization = data_organization[None]\n",
    "df_organization"
   ]
  },
  {
   "cell_type": "code",
   "execution_count": null,
   "metadata": {},
   "outputs": [],
   "source": [
    "data_patient= pyreadr.read_r('../tables_rds/Patient.RDS')\n",
    "df_patient = data_patient[None]\n",
    "df_patient"
   ]
  },
  {
   "cell_type": "code",
   "execution_count": null,
   "metadata": {},
   "outputs": [],
   "source": [
    "data_procedure = pyreadr.read_r('../tables_rds/Procedure.RDS')\n",
    "df_procedure = data_procedure[None]\n",
    "df_procedure"
   ]
  }
 ],
 "metadata": {
  "kernelspec": {
   "display_name": "Python 3.9.15 ('melanoma_data')",
   "language": "python",
   "name": "python3"
  },
  "language_info": {
   "codemirror_mode": {
    "name": "ipython",
    "version": 3
   },
   "file_extension": ".py",
   "mimetype": "text/x-python",
   "name": "python",
   "nbconvert_exporter": "python",
   "pygments_lexer": "ipython3",
   "version": "3.9.15"
  },
  "orig_nbformat": 4,
  "vscode": {
   "interpreter": {
    "hash": "fb10057885e54e3bd54de61c999865f3b88679ba264b4fc9f3b1fab9c8c5cc09"
   }
  }
 },
 "nbformat": 4,
 "nbformat_minor": 2
}
